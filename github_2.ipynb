{
 "cells": [
  {
   "cell_type": "code",
   "execution_count": 2,
   "metadata": {},
   "outputs": [
    {
     "name": "stdin",
     "output_type": "stream",
     "text": [
      " ····················\n",
      " ········································\n"
     ]
    }
   ],
   "source": [
    "import getpass\n",
    "import os\n",
    "os.environ['AWS_ACCESS_KEY_ID'] = getpass.getpass()\n",
    "os.environ['AWS_SECRET_ACCESS_KEY'] = getpass.getpass()"
   ]
  },
  {
   "cell_type": "code",
   "execution_count": 15,
   "metadata": {},
   "outputs": [
    {
     "name": "stdout",
     "output_type": "stream",
     "text": [
      "Collecting pygithub\n",
      "  Downloading PyGithub-1.51-py3-none-any.whl (260 kB)\n",
      "\u001b[K     |████████████████████████████████| 260 kB 15.0 MB/s eta 0:00:01\n",
      "\u001b[?25hRequirement already satisfied: pyjwt in /opt/conda/lib/python3.7/site-packages (from pygithub) (1.7.1)\n",
      "Requirement already satisfied: requests>=2.14.0 in /opt/conda/lib/python3.7/site-packages (from pygithub) (2.23.0)\n",
      "Collecting deprecated\n",
      "  Downloading Deprecated-1.2.10-py2.py3-none-any.whl (8.7 kB)\n",
      "Requirement already satisfied: chardet<4,>=3.0.2 in /opt/conda/lib/python3.7/site-packages (from requests>=2.14.0->pygithub) (3.0.4)\n",
      "Requirement already satisfied: certifi>=2017.4.17 in /opt/conda/lib/python3.7/site-packages (from requests>=2.14.0->pygithub) (2020.4.5.1)\n",
      "Requirement already satisfied: urllib3!=1.25.0,!=1.25.1,<1.26,>=1.21.1 in /opt/conda/lib/python3.7/site-packages (from requests>=2.14.0->pygithub) (1.25.8)\n",
      "Requirement already satisfied: idna<3,>=2.5 in /opt/conda/lib/python3.7/site-packages (from requests>=2.14.0->pygithub) (2.9)\n",
      "Requirement already satisfied: wrapt<2,>=1.10 in /opt/conda/lib/python3.7/site-packages (from deprecated->pygithub) (1.12.1)\n",
      "Installing collected packages: deprecated, pygithub\n",
      "Successfully installed deprecated-1.2.10 pygithub-1.51\n"
     ]
    }
   ],
   "source": [
    "!pip install pygithub"
   ]
  },
  {
   "cell_type": "code",
   "execution_count": 16,
   "metadata": {},
   "outputs": [],
   "source": [
    "from github import Github"
   ]
  },
  {
   "cell_type": "code",
   "execution_count": 45,
   "metadata": {},
   "outputs": [
    {
     "name": "stdout",
     "output_type": "stream",
     "text": [
      "alpiq\n",
      "basemap\n",
      "cdiscount\n",
      "cdiscount_explorer\n",
      "construction\n",
      "crypto\n",
      "download_gfs\n",
      "eng\n",
      "explorer\n",
      "fltk\n",
      "fltk_dev\n",
      "froglabs\n",
      "froglabs.github.io\n",
      "fws\n",
      "hyperopt\n",
      "icml_2019\n",
      "iot\n",
      "miners\n",
      "pcbs\n",
      "projects\n",
      "pygrib\n",
      "reuniwatt_study\n",
      "scratch\n",
      "sentinel\n",
      "total\n",
      "tutorials\n",
      "tx2\n",
      "valorem\n",
      "waether\n",
      "website\n",
      "wind-forecast\n",
      "deep_connect4\n",
      "deep_weather\n",
      "dotfiles\n",
      "plutus\n",
      "toolkit\n"
     ]
    }
   ],
   "source": [
    "g = Github(\"e34f9f3cb2c147aa2d8924a3f60c0801fb708de1\")\n",
    "\n",
    "# Then play with your Github objects:\n",
    "for repo in g.get_user().get_repos():\n",
    "    print(repo.name)"
   ]
  },
  {
   "cell_type": "code",
   "execution_count": 46,
   "metadata": {},
   "outputs": [],
   "source": [
    "repo = g.get_repo(\"jlequeux/dotfiles\")"
   ]
  },
  {
   "cell_type": "code",
   "execution_count": 47,
   "metadata": {},
   "outputs": [
    {
     "data": {
      "text/plain": [
       "[ContentFile(path=\".gitmodules\"),\n",
       " ContentFile(path=\"README.md\"),\n",
       " ContentFile(path=\"bash\"),\n",
       " ContentFile(path=\"git\"),\n",
       " ContentFile(path=\"install.sh\"),\n",
       " ContentFile(path=\"install_datascience_tools.sh\"),\n",
       " ContentFile(path=\"ipython_test.ipynb\"),\n",
       " ContentFile(path=\"screen\"),\n",
       " ContentFile(path=\"ssh\"),\n",
       " ContentFile(path=\"test_file.txt\"),\n",
       " ContentFile(path=\"tmux\"),\n",
       " ContentFile(path=\"vim\")]"
      ]
     },
     "execution_count": 47,
     "metadata": {},
     "output_type": "execute_result"
    }
   ],
   "source": [
    "repo.get_contents(\"\")"
   ]
  },
  {
   "cell_type": "code",
   "execution_count": null,
   "metadata": {},
   "outputs": [],
   "source": [
    "def add_file(path):\n",
    "    \n",
    "    repo.create_file('test_file.txt', message='add test file', content='some test content',\n",
    "                 #branch=NotSet, committer=NotSet, author=NotSet\n",
    "                )"
   ]
  },
  {
   "cell_type": "code",
   "execution_count": 48,
   "metadata": {},
   "outputs": [
    {
     "data": {
      "text/plain": [
       "{'content': ContentFile(path=\"py_files.py\"),\n",
       " 'commit': Commit(sha=\"4778de67973f6bc5ee87e76c0f0a11b02bcf3d02\")}"
      ]
     },
     "execution_count": 48,
     "metadata": {},
     "output_type": "execute_result"
    }
   ],
   "source": [
    "repo.create_file('py_files.py', message='test py', content=get_file_content('labels.py'),\n",
    "                 #branch=NotSet, committer=NotSet, author=NotSet\n",
    "                )"
   ]
  },
  {
   "cell_type": "code",
   "execution_count": 41,
   "metadata": {},
   "outputs": [],
   "source": [
    "def get_file_content(path):\n",
    "    with open(path, 'r') as f:\n",
    "        return '\\n'.join(f.readlines())"
   ]
  },
  {
   "cell_type": "code",
   "execution_count": 35,
   "metadata": {},
   "outputs": [],
   "source": [
    "content = get_file_content('github.ipynb')"
   ]
  },
  {
   "cell_type": "code",
   "execution_count": 38,
   "metadata": {},
   "outputs": [
    {
     "data": {
      "text/plain": [
       "345"
      ]
     },
     "execution_count": 38,
     "metadata": {},
     "output_type": "execute_result"
    }
   ],
   "source": [
    "len(content)"
   ]
  },
  {
   "cell_type": "code",
   "execution_count": 40,
   "metadata": {},
   "outputs": [
    {
     "data": {
      "text/plain": [
       "'{\\n\\n \"cells\": [\\n\\n  {\\n\\n   \"cell_type\": \"code\",\\n\\n   \"execution_count\": 2,\\n\\n   \"metadata\": {},\\n\\n   \"outputs\": [\\n\\n    {\\n\\n     \"name\": \"stdin\",\\n\\n     \"output_type\": \"stream\",\\n\\n     \"text\": [\\n\\n      \" ····················\\\\n\",\\n\\n      \" ········································\\\\n\"\\n\\n     ]\\n\\n    }\\n\\n   ],\\n\\n   \"source\": [\\n\\n    \"import getpass\\\\n\",\\n\\n    \"import os\\\\n\",\\n\\n    \"os.environ[\\'AWS_ACCESS_KEY_ID\\'] = getpass.getpass()\\\\n\",\\n\\n    \"os.environ[\\'AWS_SECRET_ACCESS_KEY\\'] = getpass.getpass()\"\\n\\n   ]\\n\\n  },\\n\\n  {\\n\\n   \"cell_type\": \"code\",\\n\\n   \"execution_count\": 15,\\n\\n   \"metadata\": {},\\n\\n   \"outputs\": [\\n\\n    {\\n\\n     \"name\": \"stdout\",\\n\\n     \"output_type\": \"stream\",\\n\\n     \"text\": [\\n\\n      \"Collecting pygithub\\\\n\",\\n\\n      \"  Downloading PyGithub-1.51-py3-none-any.whl (260 kB)\\\\n\",\\n\\n      \"\\\\u001b[K     |████████████████████████████████| 260 kB 15.0 MB/s eta 0:00:01\\\\n\",\\n\\n      \"\\\\u001b[?25hRequirement already satisfied: pyjwt in /opt/conda/lib/python3.7/site-packages (from pygithub) (1.7.1)\\\\n\",\\n\\n      \"Requirement already satisfied: requests>=2.14.0 in /opt/conda/lib/python3.7/site-packages (from pygithub) (2.23.0)\\\\n\",\\n\\n      \"Collecting deprecated\\\\n\",\\n\\n      \"  Downloading Deprecated-1.2.10-py2.py3-none-any.whl (8.7 kB)\\\\n\",\\n\\n      \"Requirement already satisfied: chardet<4,>=3.0.2 in /opt/conda/lib/python3.7/site-packages (from requests>=2.14.0->pygithub) (3.0.4)\\\\n\",\\n\\n      \"Requirement already satisfied: certifi>=2017.4.17 in /opt/conda/lib/python3.7/site-packages (from requests>=2.14.0->pygithub) (2020.4.5.1)\\\\n\",\\n\\n      \"Requirement already satisfied: urllib3!=1.25.0,!=1.25.1,<1.26,>=1.21.1 in /opt/conda/lib/python3.7/site-packages (from requests>=2.14.0->pygithub) (1.25.8)\\\\n\",\\n\\n      \"Requirement already satisfied: idna<3,>=2.5 in /opt/conda/lib/python3.7/site-packages (from requests>=2.14.0->pygithub) (2.9)\\\\n\",\\n\\n      \"Requirement already satisfied: wrapt<2,>=1.10 in /opt/conda/lib/python3.7/site-packages (from deprecated->pygithub) (1.12.1)\\\\n\",\\n\\n      \"Installing collected packages: deprecated, pygithub\\\\n\",\\n\\n      \"Successfully installed deprecated-1.2.10 pygithub-1.51\\\\n\"\\n\\n     ]\\n\\n    }\\n\\n   ],\\n\\n   \"source\": [\\n\\n    \"!pip install pygithub\"\\n\\n   ]\\n\\n  },\\n\\n  {\\n\\n   \"cell_type\": \"code\",\\n\\n   \"execution_count\": 16,\\n\\n   \"metadata\": {},\\n\\n   \"outputs\": [],\\n\\n   \"source\": [\\n\\n    \"from github import Github\"\\n\\n   ]\\n\\n  },\\n\\n  {\\n\\n   \"cell_type\": \"code\",\\n\\n   \"execution_count\": 17,\\n\\n   \"metadata\": {},\\n\\n   \"outputs\": [\\n\\n    {\\n\\n     \"name\": \"stdout\",\\n\\n     \"output_type\": \"stream\",\\n\\n     \"text\": [\\n\\n      \"alpiq\\\\n\",\\n\\n      \"basemap\\\\n\",\\n\\n      \"cdiscount\\\\n\",\\n\\n      \"cdiscount_explorer\\\\n\",\\n\\n      \"construction\\\\n\",\\n\\n      \"crypto\\\\n\",\\n\\n      \"download_gfs\\\\n\",\\n\\n      \"eng\\\\n\",\\n\\n      \"explorer\\\\n\",\\n\\n      \"fltk\\\\n\",\\n\\n      \"fltk_dev\\\\n\",\\n\\n      \"froglabs\\\\n\",\\n\\n      \"froglabs.github.io\\\\n\",\\n\\n      \"fws\\\\n\",\\n\\n      \"hyperopt\\\\n\",\\n\\n      \"icml_2019\\\\n\",\\n\\n      \"iot\\\\n\",\\n\\n      \"miners\\\\n\",\\n\\n      \"pcbs\\\\n\",\\n\\n      \"projects\\\\n\",\\n\\n      \"pygrib\\\\n\",\\n\\n      \"reuniwatt_study\\\\n\",\\n\\n      \"scratch\\\\n\",\\n\\n      \"sentinel\\\\n\",\\n\\n      \"total\\\\n\",\\n\\n      \"tutorials\\\\n\",\\n\\n      \"tx2\\\\n\",\\n\\n      \"valorem\\\\n\",\\n\\n      \"waether\\\\n\",\\n\\n      \"website\\\\n\",\\n\\n      \"wind-forecast\\\\n\",\\n\\n      \"deep_connect4\\\\n\",\\n\\n      \"deep_weather\\\\n\",\\n\\n      \"dotfiles\\\\n\",\\n\\n      \"plutus\\\\n\",\\n\\n      \"toolkit\\\\n\"\\n\\n     ]\\n\\n    }\\n\\n   ],\\n\\n   \"source\": [\\n\\n    \"g = Github(\\\\\"68a8ad4072f3817794839c9574608b880513b937\\\\\")\\\\n\",\\n\\n    \"\\\\n\",\\n\\n    \"# Then play with your Github objects:\\\\n\",\\n\\n    \"for repo in g.get_user().get_repos():\\\\n\",\\n\\n    \"    print(repo.name)\"\\n\\n   ]\\n\\n  },\\n\\n  {\\n\\n   \"cell_type\": \"code\",\\n\\n   \"execution_count\": 18,\\n\\n   \"metadata\": {},\\n\\n   \"outputs\": [],\\n\\n   \"source\": [\\n\\n    \"repo = g.get_repo(\\\\\"jlequeux/dotfiles\\\\\")\"\\n\\n   ]\\n\\n  },\\n\\n  {\\n\\n   \"cell_type\": \"code\",\\n\\n   \"execution_count\": 24,\\n\\n   \"metadata\": {},\\n\\n   \"outputs\": [\\n\\n    {\\n\\n     \"data\": {\\n\\n      \"text/plain\": [\\n\\n       \"[ContentFile(path=\\\\\".gitmodules\\\\\"),\\\\n\",\\n\\n       \" ContentFile(path=\\\\\"README.md\\\\\"),\\\\n\",\\n\\n       \" ContentFile(path=\\\\\"bash\\\\\"),\\\\n\",\\n\\n       \" ContentFile(path=\\\\\"git\\\\\"),\\\\n\",\\n\\n       \" ContentFile(path=\\\\\"install.sh\\\\\"),\\\\n\",\\n\\n       \" ContentFile(path=\\\\\"install_datascience_tools.sh\\\\\"),\\\\n\",\\n\\n       \" ContentFile(path=\\\\\"screen\\\\\"),\\\\n\",\\n\\n       \" ContentFile(path=\\\\\"ssh\\\\\"),\\\\n\",\\n\\n       \" ContentFile(path=\\\\\"tmux\\\\\"),\\\\n\",\\n\\n       \" ContentFile(path=\\\\\"vim\\\\\")]\"\\n\\n      ]\\n\\n     },\\n\\n     \"execution_count\": 24,\\n\\n     \"metadata\": {},\\n\\n     \"output_type\": \"execute_result\"\\n\\n    }\\n\\n   ],\\n\\n   \"source\": [\\n\\n    \"repo.get_contents(\\\\\"\\\\\")\"\\n\\n   ]\\n\\n  },\\n\\n  {\\n\\n   \"cell_type\": \"code\",\\n\\n   \"execution_count\": null,\\n\\n   \"metadata\": {},\\n\\n   \"outputs\": [],\\n\\n   \"source\": [\\n\\n    \"def add_file(path):\\\\n\",\\n\\n    \"    \\\\n\",\\n\\n    \"    repo.create_file(\\'test_file.txt\\', message=\\'add test file\\', content=\\'some test content\\',\\\\n\",\\n\\n    \"                 #branch=NotSet, committer=NotSet, author=NotSet\\\\n\",\\n\\n    \"                )\"\\n\\n   ]\\n\\n  },\\n\\n  {\\n\\n   \"cell_type\": \"code\",\\n\\n   \"execution_count\": 34,\\n\\n   \"metadata\": {},\\n\\n   \"outputs\": [\\n\\n    {\\n\\n     \"ename\": \"AssertionError\",\\n\\n     \"evalue\": \"\",\\n\\n     \"output_type\": \"error\",\\n\\n     \"traceback\": [\\n\\n      \"\\\\u001b[0;31m---------------------------------------------------------------------------\\\\u001b[0m\",\\n\\n      \"\\\\u001b[0;31mAssertionError\\\\u001b[0m                            Traceback (most recent call last)\",\\n\\n      \"\\\\u001b[0;32m<ipython-input-34-86271f4acf9a>\\\\u001b[0m in \\\\u001b[0;36m<module>\\\\u001b[0;34m\\\\u001b[0m\\\\n\\\\u001b[0;32m----> 1\\\\u001b[0;31m repo.create_file(\\'ipython_test.ipynb\\', message=\\'test ipynb\\', content=get_file_content(\\'github.ipynb\\'),\\\\n\\\\u001b[0m\\\\u001b[1;32m      2\\\\u001b[0m                  \\\\u001b[0;31m#branch=NotSet, committer=NotSet, author=NotSet\\\\u001b[0m\\\\u001b[0;34m\\\\u001b[0m\\\\u001b[0;34m\\\\u001b[0m\\\\u001b[0;34m\\\\u001b[0m\\\\u001b[0m\\\\n\\\\u001b[1;32m      3\\\\u001b[0m                 )\\\\n\",\\n\\n      \"\\\\u001b[0;32m/opt/conda/lib/python3.7/site-packages/github/Repository.py\\\\u001b[0m in \\\\u001b[0;36mcreate_file\\\\u001b[0;34m(self, path, message, content, branch, committer, author)\\\\u001b[0m\\\\n\\\\u001b[1;32m   2011\\\\u001b[0m         \\\\u001b[0;32massert\\\\u001b[0m \\\\u001b[0misinstance\\\\u001b[0m\\\\u001b[0;34m(\\\\u001b[0m\\\\u001b[0mpath\\\\u001b[0m\\\\u001b[0;34m,\\\\u001b[0m \\\\u001b[0mstr\\\\u001b[0m\\\\u001b[0;34m)\\\\u001b[0m\\\\u001b[0;34m\\\\u001b[0m\\\\u001b[0;34m\\\\u001b[0m\\\\u001b[0m\\\\n\\\\u001b[1;32m   2012\\\\u001b[0m         \\\\u001b[0;32massert\\\\u001b[0m \\\\u001b[0misinstance\\\\u001b[0m\\\\u001b[0;34m(\\\\u001b[0m\\\\u001b[0mmessage\\\\u001b[0m\\\\u001b[0;34m,\\\\u001b[0m \\\\u001b[0mstr\\\\u001b[0m\\\\u001b[0;34m)\\\\u001b[0m\\\\u001b[0;34m\\\\u001b[0m\\\\u001b[0;34m\\\\u001b[0m\\\\u001b[0m\\\\n\\\\u001b[0;32m-> 2013\\\\u001b[0;31m         \\\\u001b[0;32massert\\\\u001b[0m \\\\u001b[0misinstance\\\\u001b[0m\\\\u001b[0;34m(\\\\u001b[0m\\\\u001b[0mcontent\\\\u001b[0m\\\\u001b[0;34m,\\\\u001b[0m \\\\u001b[0;34m(\\\\u001b[0m\\\\u001b[0mstr\\\\u001b[0m\\\\u001b[0;34m,\\\\u001b[0m \\\\u001b[0mbytes\\\\u001b[0m\\\\u001b[0;34m)\\\\u001b[0m\\\\u001b[0;34m)\\\\u001b[0m\\\\u001b[0;34m\\\\u001b[0m\\\\u001b[0;34m\\\\u001b[0m\\\\u001b[0m\\\\n\\\\u001b[0m\\\\u001b[1;32m   2014\\\\u001b[0m         \\\\u001b[0;32massert\\\\u001b[0m \\\\u001b[0mbranch\\\\u001b[0m \\\\u001b[0;32mis\\\\u001b[0m \\\\u001b[0mgithub\\\\u001b[0m\\\\u001b[0;34m.\\\\u001b[0m\\\\u001b[0mGithubObject\\\\u001b[0m\\\\u001b[0;34m.\\\\u001b[0m\\\\u001b[0mNotSet\\\\u001b[0m \\\\u001b[0;32mor\\\\u001b[0m \\\\u001b[0misinstance\\\\u001b[0m\\\\u001b[0;34m(\\\\u001b[0m\\\\u001b[0mbranch\\\\u001b[0m\\\\u001b[0;34m,\\\\u001b[0m \\\\u001b[0mstr\\\\u001b[0m\\\\u001b[0;34m)\\\\u001b[0m\\\\u001b[0;34m\\\\u001b[0m\\\\u001b[0;34m\\\\u001b[0m\\\\u001b[0m\\\\n\\\\u001b[1;32m   2015\\\\u001b[0m         assert author is github.GithubObject.NotSet or isinstance(\\\\n\",\\n\\n      \"\\\\u001b[0;31mAssertionError\\\\u001b[0m: \"\\n\\n     ]\\n\\n    }\\n\\n   ],\\n\\n   \"source\": [\\n\\n    \"repo.create_file(\\'ipython_test.ipynb\\', message=\\'test ipynb\\', content=get_file_content(\\'github.ipynb\\'),\\\\n\",\\n\\n    \"                 #branch=NotSet, committer=NotSet, author=NotSet\\\\n\",\\n\\n    \"                )\"\\n\\n   ]\\n\\n  },\\n\\n  {\\n\\n   \"cell_type\": \"code\",\\n\\n   \"execution_count\": 33,\\n\\n   \"metadata\": {},\\n\\n   \"outputs\": [],\\n\\n   \"source\": [\\n\\n    \"def get_file_content(path):\\\\n\",\\n\\n    \"    with open(path, \\'r\\') as f:\\\\n\",\\n\\n    \"        return f.readlines()\"\\n\\n   ]\\n\\n  },\\n\\n  {\\n\\n   \"cell_type\": \"code\",\\n\\n   \"execution_count\": null,\\n\\n   \"metadata\": {},\\n\\n   \"outputs\": [],\\n\\n   \"source\": [\\n\\n    \"content = get_file_content()\"\\n\\n   ]\\n\\n  },\\n\\n  {\\n\\n   \"cell_type\": \"code\",\\n\\n   \"execution_count\": 25,\\n\\n   \"metadata\": {},\\n\\n   \"outputs\": [\\n\\n    {\\n\\n     \"name\": \"stdout\",\\n\\n     \"output_type\": \"stream\",\\n\\n     \"text\": [\\n\\n      \"Help on method create_file in module github.Repository:\\\\n\",\\n\\n      \"\\\\n\",\\n\\n      \"create_file(path, message, content, branch=NotSet, committer=NotSet, author=NotSet) method of github.Repository.Repository instance\\\\n\",\\n\\n      \"    Create a file in this repository.\\\\n\",\\n\\n      \"    \\\\n\",\\n\\n      \"    :calls: `PUT /repos/:owner/:repo/contents/:path <http://developer.github.com/v3/repos/contents#create-a-file>`_\\\\n\",\\n\\n      \"    :param path: string, (required), path of the file in the repository\\\\n\",\\n\\n      \"    :param message: string, (required), commit message\\\\n\",\\n\\n      \"    :param content: string, (required), the actual data in the file\\\\n\",\\n\\n      \"    :param branch: string, (optional), branch to create the commit on. Defaults to the default branch of the repository\\\\n\",\\n\\n      \"    :param committer: InputGitAuthor, (optional), if no information is given the authenticated user\\'s information will be used. You must specify both a name and email.\\\\n\",\\n\\n      \"    :param author: InputGitAuthor, (optional), if omitted this will be filled in with committer information. If passed, you must specify both a name and email.\\\\n\",\\n\\n      \"    :rtype: {\\\\n\",\\n\\n      \"        \\'content\\': :class:`ContentFile <github.ContentFile.ContentFile>`:,\\\\n\",\\n\\n      \"        \\'commit\\': :class:`Commit <github.Commit.Commit>`}\\\\n\",\\n\\n      \"\\\\n\"\\n\\n     ]\\n\\n    }\\n\\n   ],\\n\\n   \"source\": [\\n\\n    \"help(repo.create_file)\"\\n\\n   ]\\n\\n  },\\n\\n  {\\n\\n   \"cell_type\": \"code\",\\n\\n   \"execution_count\": null,\\n\\n   \"metadata\": {},\\n\\n   \"outputs\": [],\\n\\n   \"source\": [\\n\\n    \"repo.update_file(\\\\\"test_file.txt\\\\\", message=\\\\\"init tests\\\\\", content=\\\\\"more tests\\\\\", contents.sha, branch=\\\\\"test\\\\\")\"\\n\\n   ]\\n\\n  },\\n\\n  {\\n\\n   \"cell_type\": \"code\",\\n\\n   \"execution_count\": 22,\\n\\n   \"metadata\": {},\\n\\n   \"outputs\": [\\n\\n    {\\n\\n     \"name\": \"stdout\",\\n\\n     \"output_type\": \"stream\",\\n\\n     \"text\": [\\n\\n      \"Help on method update_file in module github.Repository:\\\\n\",\\n\\n      \"\\\\n\",\\n\\n      \"update_file(path, message, content, sha, branch=NotSet, committer=NotSet, author=NotSet) method of github.Repository.Repository instance\\\\n\",\\n\\n      \"    This method updates a file in a repository\\\\n\",\\n\\n      \"    \\\\n\",\\n\\n      \"    :calls: `PUT /repos/:owner/:repo/contents/:path <http://developer.github.com/v3/repos/contents#update-a-file>`_\\\\n\",\\n\\n      \"    :param path: string, Required. The content path.\\\\n\",\\n\\n      \"    :param message: string, Required. The commit message.\\\\n\",\\n\\n      \"    :param content: string, Required. The updated file content, either base64 encoded, or ready to be encoded.\\\\n\",\\n\\n      \"    :param sha: string, Required. The blob SHA of the file being replaced.\\\\n\",\\n\\n      \"    :param branch: string. The branch name. Default: the repository’s default branch (usually master)\\\\n\",\\n\\n      \"    :param committer: InputGitAuthor, (optional), if no information is given the authenticated user\\'s information will be used. You must specify both a name and email.\\\\n\",\\n\\n      \"    :param author: InputGitAuthor, (optional), if omitted this will be filled in with committer information. If passed, you must specify both a name and email.\\\\n\",\\n\\n      \"    :rtype: {\\\\n\",\\n\\n      \"        \\'content\\': :class:`ContentFile <github.ContentFile.ContentFile>`:,\\\\n\",\\n\\n      \"        \\'commit\\': :class:`Commit <github.Commit.Commit>`}\\\\n\",\\n\\n      \"\\\\n\"\\n\\n     ]\\n\\n    }\\n\\n   ],\\n\\n   \"source\": [\\n\\n    \"help(repo.update_file)\"\\n\\n   ]\\n\\n  },\\n\\n  {\\n\\n   \"cell_type\": \"code\",\\n\\n   \"execution_count\": 21,\\n\\n   \"metadata\": {},\\n\\n   \"outputs\": [\\n\\n    {\\n\\n     \"ename\": \"GithubException\",\\n\\n     \"evalue\": \"404 {\\\\\"message\\\\\": \\\\\"No commit found for the ref test\\\\\", \\\\\"documentation_url\\\\\": \\\\\"https://developer.github.com/v3/repos/contents/\\\\\"}\",\\n\\n     \"output_type\": \"error\",\\n\\n     \"traceback\": [\\n\\n      \"\\\\u001b[0;31m---------------------------------------------------------------------------\\\\u001b[0m\",\\n\\n      \"\\\\u001b[0;31mGithubException\\\\u001b[0m                           Traceback (most recent call last)\",\\n\\n      \"\\\\u001b[0;32m<ipython-input-21-d80a2108db20>\\\\u001b[0m in \\\\u001b[0;36m<module>\\\\u001b[0;34m\\\\u001b[0m\\\\n\\\\u001b[0;32m----> 1\\\\u001b[0;31m \\\\u001b[0mcontents\\\\u001b[0m \\\\u001b[0;34m=\\\\u001b[0m \\\\u001b[0mrepo\\\\u001b[0m\\\\u001b[0;34m.\\\\u001b[0m\\\\u001b[0mget_contents\\\\u001b[0m\\\\u001b[0;34m(\\\\u001b[0m\\\\u001b[0;34m\\\\\"test.txt\\\\\"\\\\u001b[0m\\\\u001b[0;34m,\\\\u001b[0m \\\\u001b[0mref\\\\u001b[0m\\\\u001b[0;34m=\\\\u001b[0m\\\\u001b[0;34m\\\\\"test\\\\\"\\\\u001b[0m\\\\u001b[0;34m)\\\\u001b[0m\\\\u001b[0;34m\\\\u001b[0m\\\\u001b[0;34m\\\\u001b[0m\\\\u001b[0m\\\\n\\\\u001b[0m\",\\n\\n      \"\\\\u001b[0;32m/opt/conda/lib/python3.7/site-packages/github/Repository.py\\\\u001b[0m in \\\\u001b[0;36mget_contents\\\\u001b[0;34m(self, path, ref)\\\\u001b[0m\\\\n\\\\u001b[1;32m   1758\\\\u001b[0m             \\\\u001b[0;34m\\\\\"GET\\\\\"\\\\u001b[0m\\\\u001b[0;34m,\\\\u001b[0m\\\\u001b[0;34m\\\\u001b[0m\\\\u001b[0;34m\\\\u001b[0m\\\\u001b[0m\\\\n\\\\u001b[1;32m   1759\\\\u001b[0m             \\\\u001b[0mself\\\\u001b[0m\\\\u001b[0;34m.\\\\u001b[0m\\\\u001b[0murl\\\\u001b[0m \\\\u001b[0;34m+\\\\u001b[0m \\\\u001b[0;34m\\\\\"/contents/\\\\\"\\\\u001b[0m \\\\u001b[0;34m+\\\\u001b[0m \\\\u001b[0murllib\\\\u001b[0m\\\\u001b[0;34m.\\\\u001b[0m\\\\u001b[0mparse\\\\u001b[0m\\\\u001b[0;34m.\\\\u001b[0m\\\\u001b[0mquote\\\\u001b[0m\\\\u001b[0;34m(\\\\u001b[0m\\\\u001b[0mpath\\\\u001b[0m\\\\u001b[0;34m)\\\\u001b[0m\\\\u001b[0;34m,\\\\u001b[0m\\\\u001b[0;34m\\\\u001b[0m\\\\u001b[0;34m\\\\u001b[0m\\\\u001b[0m\\\\n\\\\u001b[0;32m-> 1760\\\\u001b[0;31m             \\\\u001b[0mparameters\\\\u001b[0m\\\\u001b[0;34m=\\\\u001b[0m\\\\u001b[0murl_parameters\\\\u001b[0m\\\\u001b[0;34m,\\\\u001b[0m\\\\u001b[0;34m\\\\u001b[0m\\\\u001b[0;34m\\\\u001b[0m\\\\u001b[0m\\\\n\\\\u001b[0m\\\\u001b[1;32m   1761\\\\u001b[0m         )\\\\n\\\\u001b[1;32m   1762\\\\u001b[0m \\\\u001b[0;34m\\\\u001b[0m\\\\u001b[0m\\\\n\",\\n\\n      \"\\\\u001b[0;32m/opt/conda/lib/python3.7/site-packages/github/Requester.py\\\\u001b[0m in \\\\u001b[0;36mrequestJsonAndCheck\\\\u001b[0;34m(self, verb, url, parameters, headers, input)\\\\u001b[0m\\\\n\\\\u001b[1;32m    317\\\\u001b[0m         return self.__check(\\\\n\\\\u001b[1;32m    318\\\\u001b[0m             *self.requestJson(\\\\n\\\\u001b[0;32m--> 319\\\\u001b[0;31m                 \\\\u001b[0mverb\\\\u001b[0m\\\\u001b[0;34m,\\\\u001b[0m \\\\u001b[0murl\\\\u001b[0m\\\\u001b[0;34m,\\\\u001b[0m \\\\u001b[0mparameters\\\\u001b[0m\\\\u001b[0;34m,\\\\u001b[0m \\\\u001b[0mheaders\\\\u001b[0m\\\\u001b[0;34m,\\\\u001b[0m \\\\u001b[0minput\\\\u001b[0m\\\\u001b[0;34m,\\\\u001b[0m \\\\u001b[0mself\\\\u001b[0m\\\\u001b[0;34m.\\\\u001b[0m\\\\u001b[0m__customConnection\\\\u001b[0m\\\\u001b[0;34m(\\\\u001b[0m\\\\u001b[0murl\\\\u001b[0m\\\\u001b[0;34m)\\\\u001b[0m\\\\u001b[0;34m\\\\u001b[0m\\\\u001b[0;34m\\\\u001b[0m\\\\u001b[0m\\\\n\\\\u001b[0m\\\\u001b[1;32m    320\\\\u001b[0m             )\\\\n\\\\u001b[1;32m    321\\\\u001b[0m         )\\\\n\",\\n\\n      \"\\\\u001b[0;32m/opt/conda/lib/python3.7/site-packages/github/Requester.py\\\\u001b[0m in \\\\u001b[0;36m__check\\\\u001b[0;34m(self, status, responseHeaders, output)\\\\u001b[0m\\\\n\\\\u001b[1;32m    340\\\\u001b[0m         \\\\u001b[0moutput\\\\u001b[0m \\\\u001b[0;34m=\\\\u001b[0m \\\\u001b[0mself\\\\u001b[0m\\\\u001b[0;34m.\\\\u001b[0m\\\\u001b[0m__structuredFromJson\\\\u001b[0m\\\\u001b[0;34m(\\\\u001b[0m\\\\u001b[0moutput\\\\u001b[0m\\\\u001b[0;34m)\\\\u001b[0m\\\\u001b[0;34m\\\\u001b[0m\\\\u001b[0;34m\\\\u001b[0m\\\\u001b[0m\\\\n\\\\u001b[1;32m    341\\\\u001b[0m         \\\\u001b[0;32mif\\\\u001b[0m \\\\u001b[0mstatus\\\\u001b[0m \\\\u001b[0;34m>=\\\\u001b[0m \\\\u001b[0;36m400\\\\u001b[0m\\\\u001b[0;34m:\\\\u001b[0m\\\\u001b[0;34m\\\\u001b[0m\\\\u001b[0;34m\\\\u001b[0m\\\\u001b[0m\\\\n\\\\u001b[0;32m--> 342\\\\u001b[0;31m             \\\\u001b[0;32mraise\\\\u001b[0m \\\\u001b[0mself\\\\u001b[0m\\\\u001b[0;34m.\\\\u001b[0m\\\\u001b[0m__createException\\\\u001b[0m\\\\u001b[0;34m(\\\\u001b[0m\\\\u001b[0mstatus\\\\u001b[0m\\\\u001b[0;34m,\\\\u001b[0m \\\\u001b[0mresponseHeaders\\\\u001b[0m\\\\u001b[0;34m,\\\\u001b[0m \\\\u001b[0moutput\\\\u001b[0m\\\\u001b[0;34m)\\\\u001b[0m\\\\u001b[0;34m\\\\u001b[0m\\\\u001b[0;34m\\\\u001b[0m\\\\u001b[0m\\\\n\\\\u001b[0m\\\\u001b[1;32m    343\\\\u001b[0m         \\\\u001b[0;32mreturn\\\\u001b[0m \\\\u001b[0mresponseHeaders\\\\u001b[0m\\\\u001b[0;34m,\\\\u001b[0m \\\\u001b[0moutput\\\\u001b[0m\\\\u001b[0;34m\\\\u001b[0m\\\\u001b[0;34m\\\\u001b[0m\\\\u001b[0m\\\\n\\\\u001b[1;32m    344\\\\u001b[0m \\\\u001b[0;34m\\\\u001b[0m\\\\u001b[0m\\\\n\",\\n\\n      \"\\\\u001b[0;31mGithubException\\\\u001b[0m: 404 {\\\\\"message\\\\\": \\\\\"No commit found for the ref test\\\\\", \\\\\"documentation_url\\\\\": \\\\\"https://developer.github.com/v3/repos/contents/\\\\\"}\"\\n\\n     ]\\n\\n    }\\n\\n   ],\\n\\n   \"source\": [\\n\\n    \"contents = repo.get_contents(\\\\\"test_file.txt\\\\\", ref=\\\\\"test\\\\\")\"\\n\\n   ]\\n\\n  },\\n\\n  {\\n\\n   \"cell_type\": \"code\",\\n\\n   \"execution_count\": null,\\n\\n   \"metadata\": {},\\n\\n   \"outputs\": [],\\n\\n   \"source\": [\\n\\n    \">>> repo = g.get_repo(\\\\\"PyGithub/PyGithub\\\\\")\\\\n\",\\n\\n    \">>> contents = repo.get_contents(\\\\\"test.txt\\\\\", ref=\\\\\"test\\\\\")\\\\n\",\\n\\n    \">>> repo.update_file(contents.path, \\\\\"more tests\\\\\", \\\\\"more tests\\\\\", contents.sha, branch=\\\\\"test\\\\\")\"\\n\\n   ]\\n\\n  }\\n\\n ],\\n\\n \"metadata\": {\\n\\n  \"kernelspec\": {\\n\\n   \"display_name\": \"Python 3\",\\n\\n   \"language\": \"python\",\\n\\n   \"name\": \"python3\"\\n\\n  },\\n\\n  \"language_info\": {\\n\\n   \"codemirror_mode\": {\\n\\n    \"name\": \"ipython\",\\n\\n    \"version\": 3\\n\\n   },\\n\\n   \"file_extension\": \".py\",\\n\\n   \"mimetype\": \"text/x-python\",\\n\\n   \"name\": \"python\",\\n\\n   \"nbconvert_exporter\": \"python\",\\n\\n   \"pygments_lexer\": \"ipython3\",\\n\\n   \"version\": \"3.7.7\"\\n\\n  }\\n\\n },\\n\\n \"nbformat\": 4,\\n\\n \"nbformat_minor\": 4\\n\\n}\\n'"
      ]
     },
     "execution_count": 40,
     "metadata": {},
     "output_type": "execute_result"
    }
   ],
   "source": [
    "'\\n'.join(content)"
   ]
  },
  {
   "cell_type": "code",
   "execution_count": 25,
   "metadata": {},
   "outputs": [
    {
     "name": "stdout",
     "output_type": "stream",
     "text": [
      "Help on method create_file in module github.Repository:\n",
      "\n",
      "create_file(path, message, content, branch=NotSet, committer=NotSet, author=NotSet) method of github.Repository.Repository instance\n",
      "    Create a file in this repository.\n",
      "    \n",
      "    :calls: `PUT /repos/:owner/:repo/contents/:path <http://developer.github.com/v3/repos/contents#create-a-file>`_\n",
      "    :param path: string, (required), path of the file in the repository\n",
      "    :param message: string, (required), commit message\n",
      "    :param content: string, (required), the actual data in the file\n",
      "    :param branch: string, (optional), branch to create the commit on. Defaults to the default branch of the repository\n",
      "    :param committer: InputGitAuthor, (optional), if no information is given the authenticated user's information will be used. You must specify both a name and email.\n",
      "    :param author: InputGitAuthor, (optional), if omitted this will be filled in with committer information. If passed, you must specify both a name and email.\n",
      "    :rtype: {\n",
      "        'content': :class:`ContentFile <github.ContentFile.ContentFile>`:,\n",
      "        'commit': :class:`Commit <github.Commit.Commit>`}\n",
      "\n"
     ]
    }
   ],
   "source": [
    "help(repo.create_file)"
   ]
  },
  {
   "cell_type": "code",
   "execution_count": null,
   "metadata": {},
   "outputs": [],
   "source": [
    "repo.update_file(\"test_file.txt\", message=\"init tests\", content=\"more tests\", contents.sha, branch=\"test\")"
   ]
  },
  {
   "cell_type": "code",
   "execution_count": 22,
   "metadata": {},
   "outputs": [
    {
     "name": "stdout",
     "output_type": "stream",
     "text": [
      "Help on method update_file in module github.Repository:\n",
      "\n",
      "update_file(path, message, content, sha, branch=NotSet, committer=NotSet, author=NotSet) method of github.Repository.Repository instance\n",
      "    This method updates a file in a repository\n",
      "    \n",
      "    :calls: `PUT /repos/:owner/:repo/contents/:path <http://developer.github.com/v3/repos/contents#update-a-file>`_\n",
      "    :param path: string, Required. The content path.\n",
      "    :param message: string, Required. The commit message.\n",
      "    :param content: string, Required. The updated file content, either base64 encoded, or ready to be encoded.\n",
      "    :param sha: string, Required. The blob SHA of the file being replaced.\n",
      "    :param branch: string. The branch name. Default: the repository’s default branch (usually master)\n",
      "    :param committer: InputGitAuthor, (optional), if no information is given the authenticated user's information will be used. You must specify both a name and email.\n",
      "    :param author: InputGitAuthor, (optional), if omitted this will be filled in with committer information. If passed, you must specify both a name and email.\n",
      "    :rtype: {\n",
      "        'content': :class:`ContentFile <github.ContentFile.ContentFile>`:,\n",
      "        'commit': :class:`Commit <github.Commit.Commit>`}\n",
      "\n"
     ]
    }
   ],
   "source": [
    "help(repo.update_file)"
   ]
  },
  {
   "cell_type": "code",
   "execution_count": 21,
   "metadata": {},
   "outputs": [
    {
     "ename": "GithubException",
     "evalue": "404 {\"message\": \"No commit found for the ref test\", \"documentation_url\": \"https://developer.github.com/v3/repos/contents/\"}",
     "output_type": "error",
     "traceback": [
      "\u001b[0;31m---------------------------------------------------------------------------\u001b[0m",
      "\u001b[0;31mGithubException\u001b[0m                           Traceback (most recent call last)",
      "\u001b[0;32m<ipython-input-21-d80a2108db20>\u001b[0m in \u001b[0;36m<module>\u001b[0;34m\u001b[0m\n\u001b[0;32m----> 1\u001b[0;31m \u001b[0mcontents\u001b[0m \u001b[0;34m=\u001b[0m \u001b[0mrepo\u001b[0m\u001b[0;34m.\u001b[0m\u001b[0mget_contents\u001b[0m\u001b[0;34m(\u001b[0m\u001b[0;34m\"test.txt\"\u001b[0m\u001b[0;34m,\u001b[0m \u001b[0mref\u001b[0m\u001b[0;34m=\u001b[0m\u001b[0;34m\"test\"\u001b[0m\u001b[0;34m)\u001b[0m\u001b[0;34m\u001b[0m\u001b[0;34m\u001b[0m\u001b[0m\n\u001b[0m",
      "\u001b[0;32m/opt/conda/lib/python3.7/site-packages/github/Repository.py\u001b[0m in \u001b[0;36mget_contents\u001b[0;34m(self, path, ref)\u001b[0m\n\u001b[1;32m   1758\u001b[0m             \u001b[0;34m\"GET\"\u001b[0m\u001b[0;34m,\u001b[0m\u001b[0;34m\u001b[0m\u001b[0;34m\u001b[0m\u001b[0m\n\u001b[1;32m   1759\u001b[0m             \u001b[0mself\u001b[0m\u001b[0;34m.\u001b[0m\u001b[0murl\u001b[0m \u001b[0;34m+\u001b[0m \u001b[0;34m\"/contents/\"\u001b[0m \u001b[0;34m+\u001b[0m \u001b[0murllib\u001b[0m\u001b[0;34m.\u001b[0m\u001b[0mparse\u001b[0m\u001b[0;34m.\u001b[0m\u001b[0mquote\u001b[0m\u001b[0;34m(\u001b[0m\u001b[0mpath\u001b[0m\u001b[0;34m)\u001b[0m\u001b[0;34m,\u001b[0m\u001b[0;34m\u001b[0m\u001b[0;34m\u001b[0m\u001b[0m\n\u001b[0;32m-> 1760\u001b[0;31m             \u001b[0mparameters\u001b[0m\u001b[0;34m=\u001b[0m\u001b[0murl_parameters\u001b[0m\u001b[0;34m,\u001b[0m\u001b[0;34m\u001b[0m\u001b[0;34m\u001b[0m\u001b[0m\n\u001b[0m\u001b[1;32m   1761\u001b[0m         )\n\u001b[1;32m   1762\u001b[0m \u001b[0;34m\u001b[0m\u001b[0m\n",
      "\u001b[0;32m/opt/conda/lib/python3.7/site-packages/github/Requester.py\u001b[0m in \u001b[0;36mrequestJsonAndCheck\u001b[0;34m(self, verb, url, parameters, headers, input)\u001b[0m\n\u001b[1;32m    317\u001b[0m         return self.__check(\n\u001b[1;32m    318\u001b[0m             *self.requestJson(\n\u001b[0;32m--> 319\u001b[0;31m                 \u001b[0mverb\u001b[0m\u001b[0;34m,\u001b[0m \u001b[0murl\u001b[0m\u001b[0;34m,\u001b[0m \u001b[0mparameters\u001b[0m\u001b[0;34m,\u001b[0m \u001b[0mheaders\u001b[0m\u001b[0;34m,\u001b[0m \u001b[0minput\u001b[0m\u001b[0;34m,\u001b[0m \u001b[0mself\u001b[0m\u001b[0;34m.\u001b[0m\u001b[0m__customConnection\u001b[0m\u001b[0;34m(\u001b[0m\u001b[0murl\u001b[0m\u001b[0;34m)\u001b[0m\u001b[0;34m\u001b[0m\u001b[0;34m\u001b[0m\u001b[0m\n\u001b[0m\u001b[1;32m    320\u001b[0m             )\n\u001b[1;32m    321\u001b[0m         )\n",
      "\u001b[0;32m/opt/conda/lib/python3.7/site-packages/github/Requester.py\u001b[0m in \u001b[0;36m__check\u001b[0;34m(self, status, responseHeaders, output)\u001b[0m\n\u001b[1;32m    340\u001b[0m         \u001b[0moutput\u001b[0m \u001b[0;34m=\u001b[0m \u001b[0mself\u001b[0m\u001b[0;34m.\u001b[0m\u001b[0m__structuredFromJson\u001b[0m\u001b[0;34m(\u001b[0m\u001b[0moutput\u001b[0m\u001b[0;34m)\u001b[0m\u001b[0;34m\u001b[0m\u001b[0;34m\u001b[0m\u001b[0m\n\u001b[1;32m    341\u001b[0m         \u001b[0;32mif\u001b[0m \u001b[0mstatus\u001b[0m \u001b[0;34m>=\u001b[0m \u001b[0;36m400\u001b[0m\u001b[0;34m:\u001b[0m\u001b[0;34m\u001b[0m\u001b[0;34m\u001b[0m\u001b[0m\n\u001b[0;32m--> 342\u001b[0;31m             \u001b[0;32mraise\u001b[0m \u001b[0mself\u001b[0m\u001b[0;34m.\u001b[0m\u001b[0m__createException\u001b[0m\u001b[0;34m(\u001b[0m\u001b[0mstatus\u001b[0m\u001b[0;34m,\u001b[0m \u001b[0mresponseHeaders\u001b[0m\u001b[0;34m,\u001b[0m \u001b[0moutput\u001b[0m\u001b[0;34m)\u001b[0m\u001b[0;34m\u001b[0m\u001b[0;34m\u001b[0m\u001b[0m\n\u001b[0m\u001b[1;32m    343\u001b[0m         \u001b[0;32mreturn\u001b[0m \u001b[0mresponseHeaders\u001b[0m\u001b[0;34m,\u001b[0m \u001b[0moutput\u001b[0m\u001b[0;34m\u001b[0m\u001b[0;34m\u001b[0m\u001b[0m\n\u001b[1;32m    344\u001b[0m \u001b[0;34m\u001b[0m\u001b[0m\n",
      "\u001b[0;31mGithubException\u001b[0m: 404 {\"message\": \"No commit found for the ref test\", \"documentation_url\": \"https://developer.github.com/v3/repos/contents/\"}"
     ]
    }
   ],
   "source": [
    "contents = repo.get_contents(\"test_file.txt\", ref=\"test\")"
   ]
  },
  {
   "cell_type": "code",
   "execution_count": null,
   "metadata": {},
   "outputs": [],
   "source": [
    ">>> repo = g.get_repo(\"PyGithub/PyGithub\")\n",
    ">>> contents = repo.get_contents(\"test.txt\", ref=\"test\")\n",
    ">>> repo.update_file(contents.path, \"more tests\", \"more tests\", contents.sha, branch=\"test\")"
   ]
  }
 ],
 "metadata": {
  "kernelspec": {
   "display_name": "Python 3",
   "language": "python",
   "name": "python3"
  },
  "language_info": {
   "codemirror_mode": {
    "name": "ipython",
    "version": 3
   },
   "file_extension": ".py",
   "mimetype": "text/x-python",
   "name": "python",
   "nbconvert_exporter": "python",
   "pygments_lexer": "ipython3",
   "version": "3.7.7"
  }
 },
 "nbformat": 4,
 "nbformat_minor": 4
}
